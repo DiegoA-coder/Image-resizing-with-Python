{
 "cells": [
  {
   "cell_type": "code",
   "execution_count": 79,
   "id": "62ab1405",
   "metadata": {},
   "outputs": [],
   "source": [
    "from skimage import io, transform, img_as_ubyte\n",
    "import io as iosys\n",
    "import requests\n",
    "import sys\n",
    "import os"
   ]
  },
  {
   "cell_type": "code",
   "execution_count": 80,
   "id": "aee5ecae",
   "metadata": {},
   "outputs": [],
   "source": [
    "def read_image(route):\n",
    "    try:\n",
    "        if route.startswith(\"http://\") or route.startswith(\"https://\"):\n",
    "            # Leer la imagen desde una URL\n",
    "            response = requests.get(route)\n",
    "            if response.status_code == 200:\n",
    "                imagen = io.imread(route)\n",
    "                return imagen\n",
    "            else:\n",
    "                print(f\"Error al descargar la imagen. Código de respuesta: {response.status_code}\")\n",
    "                return None\n",
    "        else:\n",
    "            # Leer la imagen desde un archivo temporal local\n",
    "            with open(route, 'rb') as f:\n",
    "                imagen = io.imread(BytesIO(f.read()))\n",
    "                return imagen\n",
    "    except Exception as e:\n",
    "        print(f\"Error al leer la imagen: {e}\")\n",
    "        return None"
   ]
  },
  {
   "cell_type": "code",
   "execution_count": 99,
   "id": "9fee86af",
   "metadata": {},
   "outputs": [],
   "source": [
    "def recursive_image_resizing(image, format, new_dimension, max_size, current_depth=0, max_depth=5):\n",
    "    try:\n",
    "        original_width, original_height = image.shape[:2]\n",
    "        new_height = int((new_dimension / original_width) * original_height)\n",
    "        \n",
    "        # Redimensionar la imagen\n",
    "        resized_image = transform.resize(image, (new_dimension, new_height), anti_aliasing=True)\n",
    "        # Convertir la imagen a tipo uint8\n",
    "        resized_image_uint8 = img_as_ubyte(resized_image)\n",
    "        \n",
    "        buffer = iosys.BytesIO()\n",
    "        io.imsave(buffer, resized_image_uint8, format=format)\n",
    "        \n",
    "        if buffer.tell() > (max_size * 1024):\n",
    "            if current_depth < max_depth:\n",
    "                return recursive_image_resizing(resized_image, format, int(new_dimension * .75), max_size, current_depth + 1)\n",
    "        return resized_image_uint8\n",
    "    except Exception as e:\n",
    "        print(f\"Error resizing image: {e}\")\n",
    "        return None"
   ]
  },
  {
   "cell_type": "code",
   "execution_count": 100,
   "id": "10704980",
   "metadata": {},
   "outputs": [],
   "source": [
    "def see_image(image):\n",
    "    # Mostrar la imagen redimensionada\n",
    "    io.imshow(image)\n",
    "    io.show()"
   ]
  },
  {
   "cell_type": "code",
   "execution_count": 101,
   "id": "cda54aed",
   "metadata": {},
   "outputs": [],
   "source": [
    "image = read_image('https://d3t3ozftmdmh3i.cloudfront.net/production/podcast_uploaded_nologo/35411244/35411244-1682544213802-5018213ca7789.jpg')\n",
    "resize_image = recursive_image_resizing(image, 'jpeg', 900, 300)\n",
    "io.imsave('test-skimage.jpeg', resize_image)"
   ]
  },
  {
   "cell_type": "code",
   "execution_count": null,
   "id": "56e517b6",
   "metadata": {},
   "outputs": [],
   "source": []
  }
 ],
 "metadata": {
  "kernelspec": {
   "display_name": "Python 3 (ipykernel)",
   "language": "python",
   "name": "python3"
  },
  "language_info": {
   "codemirror_mode": {
    "name": "ipython",
    "version": 3
   },
   "file_extension": ".py",
   "mimetype": "text/x-python",
   "name": "python",
   "nbconvert_exporter": "python",
   "pygments_lexer": "ipython3",
   "version": "3.9.7"
  }
 },
 "nbformat": 4,
 "nbformat_minor": 5
}
